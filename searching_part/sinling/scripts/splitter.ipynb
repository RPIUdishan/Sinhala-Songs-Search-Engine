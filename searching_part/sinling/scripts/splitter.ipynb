{
 "cells": [
  {
   "cell_type": "code",
   "execution_count": 1,
   "metadata": {
    "pycharm": {
     "is_executing": false,
     "name": "#%%\n"
    }
   },
   "outputs": [],
   "source": [
    "import sys\n",
    "sys.path.insert(0, '..')"
   ]
  },
  {
   "cell_type": "code",
   "execution_count": 2,
   "metadata": {
    "pycharm": {
     "is_executing": false,
     "name": "#%%\n"
    }
   },
   "outputs": [],
   "source": [
    "from sinling import word_splitter"
   ]
  },
  {
   "cell_type": "code",
   "execution_count": 4,
   "metadata": {
    "pycharm": {
     "is_executing": false,
     "name": "#%%\n"
    }
   },
   "outputs": [
    {
     "data": {
      "text/plain": [
       "{'debug': [['න්', 'ිමල්ගේ', 21.965314605131145],\n",
       "  ['නි', 'මල්ගේ', 51.68869445084043],\n",
       "  ['නිම', 'ල්ගේ', 909.5848375451263],\n",
       "  ['නිමල', '්ගේ', 280.832547910776],\n",
       "  ['නිමල්', 'ගේ', 10372.674572011936],\n",
       "  ['නිමල්ග', 'ේ', 1.9999780318757483]],\n",
       " 'base': 'නිමල්',\n",
       " 'affix': 'ගේ'}"
      ]
     },
     "execution_count": 4,
     "metadata": {},
     "output_type": "execute_result"
    }
   ],
   "source": [
    "word_splitter.split('නිමල්ගේ')"
   ]
  },
  {
   "cell_type": "code",
   "execution_count": 9,
   "metadata": {},
   "outputs": [
    {
     "data": {
      "text/plain": [
       "{'debug': [['ක්', 'තන්දරයක්', 3.99993654822335],\n",
       "  ['කත', 'න්දරයක්', 19.69418960244648],\n",
       "  ['කතන', '්දරයක්', 7.222222222222221],\n",
       "  ['කතන්', 'දරයක්', 1.9375],\n",
       "  ['කතන්ද', 'රයක්', 1.998568360773085],\n",
       "  ['කතන්දර', 'යක්', 1366.6951670363649],\n",
       "  ['කතන්දරය', 'ක්', 213.4538081721251],\n",
       "  ['කතන්දරයක', '්', 7.999889606446984]],\n",
       " 'base': 'කතන්දර',\n",
       " 'affix': 'යක්'}"
      ]
     },
     "execution_count": 9,
     "metadata": {},
     "output_type": "execute_result"
    }
   ],
   "source": [
    "word_splitter.split('කතන්දරයක්')"
   ]
  },
  {
   "cell_type": "code",
   "execution_count": 10,
   "metadata": {},
   "outputs": [
    {
     "data": {
      "text/plain": [
       "{'debug': [['ක්', 'තන්දරේ', 5.999857234634878],\n",
       "  ['කත', 'න්දරේ', 31.224242424242423],\n",
       "  ['කතන', '්දරේ', 7.826086956521739],\n",
       "  ['කතන්', 'දරේ', 1.9583333333333333],\n",
       "  ['කතන්ද', 'රේ', 1.9990034877927254],\n",
       "  ['කතන්දර', 'ේ', 1424.763399376621]],\n",
       " 'base': 'කතන්දර',\n",
       " 'affix': 'ේ'}"
      ]
     },
     "execution_count": 10,
     "metadata": {},
     "output_type": "execute_result"
    }
   ],
   "source": [
    "word_splitter.split('කතන්දරේ')"
   ]
  },
  {
   "cell_type": "code",
   "execution_count": 11,
   "metadata": {},
   "outputs": [
    {
     "data": {
      "text/plain": [
       "{'debug': [['ග', 'ෙදර', 364.2890625],\n",
       "  ['ගෙ', 'දර', 897.1564400221117],\n",
       "  ['ගෙද', 'ර', 5.999083782958364]],\n",
       " 'base': 'ගෙ',\n",
       " 'affix': 'දර'}"
      ]
     },
     "execution_count": 11,
     "metadata": {},
     "output_type": "execute_result"
    }
   ],
   "source": [
    "word_splitter.split('ගෙදර')"
   ]
  },
  {
   "cell_type": "code",
   "execution_count": 14,
   "metadata": {},
   "outputs": [
    {
     "data": {
      "text/plain": [
       "{'debug': [['ග', 'ුවන්යානාවක්', 3.9732441471571907],\n",
       "  ['ගු', 'වන්යානාවක්', 3.9012345679012346],\n",
       "  ['ගුව', 'න්යානාවක්', 2.0],\n",
       "  ['ගුවන', '්යානාවක්', 5.8125],\n",
       "  ['ගුවන්', 'යානාවක්', 11.99789670483758],\n",
       "  ['ගුවන්ය', 'ානාවක්', 1.8888888888888888],\n",
       "  ['ගුවන්යා', 'නාවක්', 9.796747967479675],\n",
       "  ['ගුවන්යාන', 'ාවක්', 9.975429975429975],\n",
       "  ['ගුවන්යානා', 'වක්', 723.8012762078396],\n",
       "  ['ගුවන්යානාව', 'ක්', 17.996126718469817],\n",
       "  ['ගුවන්යානාවක', '්', 7.999889606446984]],\n",
       " 'base': 'ගුවන්යානා',\n",
       " 'affix': 'වක්'}"
      ]
     },
     "execution_count": 14,
     "metadata": {},
     "output_type": "execute_result"
    }
   ],
   "source": [
    "word_splitter.split('ගුවන්යානාවක්')"
   ]
  },
  {
   "cell_type": "code",
   "execution_count": 15,
   "metadata": {},
   "outputs": [
    {
     "data": {
      "text/plain": [
       "{'debug': [['ස', 'ාගරය', 33.901145886779545],\n",
       "  ['සා', 'ගරය', 115.64956110735989],\n",
       "  ['සාග්', 'රය', 222.64869371873263],\n",
       "  ['සාගර', 'ය', 3849.225102502632]],\n",
       " 'base': 'සාගර',\n",
       " 'affix': 'ය'}"
      ]
     },
     "execution_count": 15,
     "metadata": {},
     "output_type": "execute_result"
    }
   ],
   "source": [
    "word_splitter.split('සාගරය')"
   ]
  },
  {
   "cell_type": "code",
   "execution_count": 16,
   "metadata": {},
   "outputs": [
    {
     "data": {
      "text/plain": [
       "{'debug': [['ග', 'ෙයින්', 213.78879310344828],\n",
       "  ['ගෙ', 'යින්', 1235.2486355366889],\n",
       "  ['ගෙය', 'ින්', 1974.0655032610612],\n",
       "  ['ගෙයි', 'න්', 1903.881442388809],\n",
       "  ['ගෙයින', '්', 1.999993100331529]],\n",
       " 'base': 'ගෙය',\n",
       " 'affix': 'ින්'}"
      ]
     },
     "execution_count": 16,
     "metadata": {},
     "output_type": "execute_result"
    }
   ],
   "source": [
    "word_splitter.split('ගෙයින්')"
   ]
  },
  {
   "cell_type": "code",
   "execution_count": 19,
   "metadata": {},
   "outputs": [
    {
     "data": {
      "text/plain": [
       "{'debug': [['ප', 'ොතක්', 77.83349753694581],\n",
       "  ['පො', 'තක්', 1150.8436761229314],\n",
       "  ['පොත්', 'ක්', 18747.29719099039],\n",
       "  ['පොතක', '්', 888.6357827586087]],\n",
       " 'base': 'පොත්',\n",
       " 'affix': 'ක්'}"
      ]
     },
     "execution_count": 19,
     "metadata": {},
     "output_type": "execute_result"
    }
   ],
   "source": [
    "word_splitter.split('පොතක්')"
   ]
  },
  {
   "cell_type": "code",
   "execution_count": 20,
   "metadata": {},
   "outputs": [
    {
     "data": {
      "text/plain": [
       "{'debug': [['ප', 'ොතකින්', 27.978514661551113],\n",
       "  ['පො', 'තකින්', 368.58136960303653],\n",
       "  ['පොත්', 'කින්', 9357.759610508165],\n",
       "  ['පොතක්', 'ින්', 5068.255989911728],\n",
       "  ['පොතකි', 'න්', 165.86367054539696],\n",
       "  ['පොතකින', '්', 1.999993100331529]],\n",
       " 'base': 'පොත්',\n",
       " 'affix': 'කින්'}"
      ]
     },
     "execution_count": 20,
     "metadata": {},
     "output_type": "execute_result"
    }
   ],
   "source": [
    "word_splitter.split('පොතකින්')"
   ]
  },
  {
   "cell_type": "code",
   "execution_count": 21,
   "metadata": {},
   "outputs": [
    {
     "data": {
      "text/plain": [
       "{'debug': [['ප', 'ොතකට', 23.984213122841638],\n",
       "  ['පො', 'තකට', 344.0700475435816],\n",
       "  ['පොත්', 'කට', 10345.87012495267],\n",
       "  ['පොතක්', 'ට', 5411.5409542765765]],\n",
       " 'base': 'පොත්',\n",
       " 'affix': 'කට'}"
      ]
     },
     "execution_count": 21,
     "metadata": {},
     "output_type": "execute_result"
    }
   ],
   "source": [
    "word_splitter.split('පොතකට')"
   ]
  },
  {
   "cell_type": "code",
   "execution_count": 22,
   "metadata": {},
   "outputs": [
    {
     "data": {
      "text/plain": [
       "{'debug': [['ග', 'මනින්', 87.05172413793103],\n",
       "  ['ගම', 'නින්', 1074.582695035461],\n",
       "  ['ගමන්', 'ින්', 31932.364253324813],\n",
       "  ['ගමනි', 'න්', 1.9999801944901072],\n",
       "  ['ගමනින', '්', 1.999993100331529]],\n",
       " 'base': 'ගමන්',\n",
       " 'affix': 'ින්'}"
      ]
     },
     "execution_count": 22,
     "metadata": {},
     "output_type": "execute_result"
    }
   ],
   "source": [
    "word_splitter.split('ගමනින්')"
   ]
  },
  {
   "cell_type": "code",
   "execution_count": 23,
   "metadata": {},
   "outputs": [
    {
     "data": {
      "text/plain": [
       "{'debug': [['ග', 'මකට', 450.4540276647681],\n",
       "  ['ගම', 'කට', 7540.083043197937],\n",
       "  ['ගමක්', 'ට', 1799.1232851676282]],\n",
       " 'base': 'ගම',\n",
       " 'affix': 'කට'}"
      ]
     },
     "execution_count": 23,
     "metadata": {},
     "output_type": "execute_result"
    }
   ],
   "source": [
    "word_splitter.split('ගමකට')"
   ]
  },
  {
   "cell_type": "code",
   "execution_count": 24,
   "metadata": {},
   "outputs": [
    {
     "data": {
      "text/plain": [
       "{'debug': [['බ', 'යක්', 749.6170242024202],\n",
       "  ['බය', 'ක්', 6161.889858668203],\n",
       "  ['බයක', '්', 1.999993100331529]],\n",
       " 'base': 'බය',\n",
       " 'affix': 'ක්'}"
      ]
     },
     "execution_count": 24,
     "metadata": {},
     "output_type": "execute_result"
    }
   ],
   "source": [
    "word_splitter.split('බයක්')"
   ]
  },
  {
   "cell_type": "code",
   "execution_count": 25,
   "metadata": {},
   "outputs": [
    {
     "data": {
      "text/plain": [
       "{'debug': [['බ', 'යකින්', 691.5325569084172],\n",
       "  ['බය', 'කින්', 4633.704798394453],\n",
       "  ['බයක්', 'ින්', 1332.7078932343704],\n",
       "  ['බයකි', 'න්', 7.999683121255632],\n",
       "  ['බයකින', '්', 1.999993100331529]],\n",
       " 'base': 'බය',\n",
       " 'affix': 'කින්'}"
      ]
     },
     "execution_count": 25,
     "metadata": {},
     "output_type": "execute_result"
    }
   ],
   "source": [
    "word_splitter.split('බයකින්')"
   ]
  },
  {
   "cell_type": "code",
   "execution_count": 26,
   "metadata": {},
   "outputs": [
    {
     "data": {
      "text/plain": [
       "{'debug': [['බ', 'සයක්', 295.68],\n",
       "  ['බස්', 'යක්', 18099.73342847677],\n",
       "  ['බසය', 'ක්', 1735.2337595428787],\n",
       "  ['බසයක', '්', 351.78640482133744]],\n",
       " 'base': 'බස්',\n",
       " 'affix': 'යක්'}"
      ]
     },
     "execution_count": 26,
     "metadata": {},
     "output_type": "execute_result"
    }
   ],
   "source": [
    "word_splitter.split('බසයක්')"
   ]
  },
  {
   "cell_type": "code",
   "execution_count": 27,
   "metadata": {},
   "outputs": [
    {
     "data": {
      "text/plain": [
       "{'debug': [['බ', 'සයකින්', 109.75501113585746],\n",
       "  ['බස්', 'යකින්', 5977.342745759141],\n",
       "  ['බසය', 'කින්', 1587.771884534147],\n",
       "  ['බසයක්', 'ින්', 573.912634359958],\n",
       "  ['බසයකි', 'න්', 21.99760377059569],\n",
       "  ['බසයකින', '්', 1.999993100331529]],\n",
       " 'base': 'බස්',\n",
       " 'affix': 'යකින්'}"
      ]
     },
     "execution_count": 27,
     "metadata": {},
     "output_type": "execute_result"
    }
   ],
   "source": [
    "word_splitter.split('බසයකින්')"
   ]
  },
  {
   "cell_type": "code",
   "execution_count": null,
   "metadata": {},
   "outputs": [],
   "source": []
  }
 ],
 "metadata": {
  "kernelspec": {
   "display_name": "Python 3",
   "language": "python",
   "name": "python3"
  },
  "language_info": {
   "codemirror_mode": {
    "name": "ipython",
    "version": 3
   },
   "file_extension": ".py",
   "mimetype": "text/x-python",
   "name": "python",
   "nbconvert_exporter": "python",
   "pygments_lexer": "ipython3",
   "version": "3.6.5"
  },
  "pycharm": {
   "stem_cell": {
    "cell_type": "raw",
    "metadata": {
     "collapsed": false
    },
    "source": []
   }
  }
 },
 "nbformat": 4,
 "nbformat_minor": 1
}
